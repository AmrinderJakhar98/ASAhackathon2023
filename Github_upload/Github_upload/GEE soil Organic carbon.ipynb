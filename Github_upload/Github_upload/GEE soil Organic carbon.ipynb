{
 "cells": [
  {
   "cell_type": "code",
   "execution_count": null,
   "id": "888742f4",
   "metadata": {},
   "outputs": [],
   "source": [
    "import geemap\n",
    "import pandas as pd\n",
    "import ee\n",
    "import geopandas as gpd\n",
    "import json"
   ]
  },
  {
   "cell_type": "code",
   "execution_count": null,
   "id": "e5025363",
   "metadata": {},
   "outputs": [],
   "source": [
    "ee.Initialize()"
   ]
  },
  {
   "cell_type": "code",
   "execution_count": null,
   "id": "55b51bba",
   "metadata": {},
   "outputs": [],
   "source": [
    "# ga_shp = \"\""
   ]
  },
  {
   "cell_type": "code",
   "execution_count": null,
   "id": "e85c7de8",
   "metadata": {},
   "outputs": [],
   "source": [
    "# ga_gpd = gpd.read_file(ga_shp, crs = \"EPSG:4326\")"
   ]
  },
  {
   "cell_type": "code",
   "execution_count": null,
   "id": "56c70ea6",
   "metadata": {},
   "outputs": [],
   "source": [
    "# def shp_to_ee(geodf):\n",
    "#     data = json.loads(geodf.to_json())\n",
    "#     return data['features'][0]['geometry']['coordinates']"
   ]
  },
  {
   "cell_type": "code",
   "execution_count": null,
   "id": "08a9d4f9",
   "metadata": {},
   "outputs": [],
   "source": [
    "# ga_ee = ee.Geometry.MultiPolygon(shp_to_ee(ga_gpd))\n",
    "# ga_ee"
   ]
  },
  {
   "cell_type": "code",
   "execution_count": null,
   "id": "6bb422bc",
   "metadata": {},
   "outputs": [],
   "source": [
    "states = ee.FeatureCollection(\"TIGER/2018/States\")\n",
    "ga_ee = states.filter(ee.Filter.eq(\"NAME\", \"Georgia\"))\n",
    "\n",
    "# geemap.ee_export_vector_to_drive(\n",
    "#     ga_ee_shp, description=\"GA\", fileFormat='SHP', folder=\"GA_shp\"\n",
    "# )\n",
    "#ga_bound = ga_ee.filterBounds(ga_ee)\n",
    "\n",
    "#ga_bound\n",
    "\n",
    "ga_ee.geometry()"
   ]
  },
  {
   "cell_type": "code",
   "execution_count": null,
   "id": "a446437a",
   "metadata": {},
   "outputs": [],
   "source": [
    "soc = ee.Image(\"OpenLandMap/SOL/SOL_ORGANIC-CARBON_USDA-6A1C_M/v02\")\n",
    "\n",
    "# soc2 = soc.select('b30').clipToCollection(ga_ee)\n",
    "\n",
    "# georgia = soc.reduceRegions(**{\n",
    "#   'collection': ga_ee,\n",
    "#   'reducer': ee.Reducer.mean(),\n",
    "#   'scale': 250,\n",
    "# })\n",
    "\n",
    "# georgia_f = georgia.select('b30')"
   ]
  },
  {
   "cell_type": "code",
   "execution_count": null,
   "id": "779ad22d",
   "metadata": {},
   "outputs": [],
   "source": [
    "Map = geemap.Map()\n",
    "Map.set_center(-83.273488, 31.714343999999997, zoom = 6)\n",
    "\n",
    "Map.addLayer(ga_ee, {}, \"Georgia\")\n",
    "Map.addLayer(georgia_f, {'min': 0, 'max': 16, 'palette': ['ffffa0','f7fcb9','d9f0a3','addd8e','78c679','41ab5d','238443','005b29','004b29','012b13','00120b']}, \"SOC\")\n",
    "Map"
   ]
  },
  {
   "cell_type": "code",
   "execution_count": null,
   "id": "c44e88f8",
   "metadata": {},
   "outputs": [],
   "source": [
    "geemap.ee_export_image_to_drive(soc2, description = \"soc_30\", folder = \"GEE\", region = ga_ee.geometry(), scale = 250, fileFormat = 'GeoTIFF')"
   ]
  }
 ],
 "metadata": {
  "kernelspec": {
   "display_name": "Python 3 (ipykernel)",
   "language": "python",
   "name": "python3"
  },
  "language_info": {
   "codemirror_mode": {
    "name": "ipython",
    "version": 3
   },
   "file_extension": ".py",
   "mimetype": "text/x-python",
   "name": "python",
   "nbconvert_exporter": "python",
   "pygments_lexer": "ipython3",
   "version": "3.9.16"
  }
 },
 "nbformat": 4,
 "nbformat_minor": 5
}
